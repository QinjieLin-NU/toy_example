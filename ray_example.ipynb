{
 "cells": [
  {
   "cell_type": "code",
   "execution_count": 1,
   "id": "218aca40",
   "metadata": {},
   "outputs": [],
   "source": [
    "import numpy as np\n",
    "import bundle\n",
    "import time\n",
    "import ray\n",
    "from tqdm import tqdm"
   ]
  },
  {
   "cell_type": "code",
   "execution_count": 2,
   "id": "346a3c35",
   "metadata": {},
   "outputs": [
    {
     "data": {
      "text/plain": [
       "{'num_clients': 1,\n",
       " 'python_version': '3.8.5',\n",
       " 'ray_version': '1.6.0',\n",
       " 'ray_commit': '7916500c43de46721c51e6b95fb51cfa2c6078ba',\n",
       " 'protocol_version': '2021-05-20'}"
      ]
     },
     "execution_count": 2,
     "metadata": {},
     "output_type": "execute_result"
    }
   ],
   "source": [
    "# ray.util.connect(\"192.168.10.68:8088\")\n",
    "ray.util.connect(\"192.168.100.108:32703\")"
   ]
  },
  {
   "cell_type": "code",
   "execution_count": 4,
   "id": "2b96cef9",
   "metadata": {},
   "outputs": [
    {
     "name": "stdout",
     "output_type": "stream",
     "text": [
      "init a new Data Manager here\n",
      "Total time = 58.62239217758179\n"
     ]
    }
   ],
   "source": [
    "@ray.remote\n",
    "def ray_bundles(idx):\n",
    "    bundle_list, Z_list = ray.get(ray_env).create_bundles(idx,idx+1)\n",
    "    return  bundle_list,Z_list\n",
    "t1 = time.time()\n",
    "env = bundle.Evaluator()\n",
    "ray_env = ray.put(env)\n",
    "return_refs = [ray_bundles.remote(idx) for idx in range(260, 265)]\n",
    "return_items = ray.get(return_refs)\n",
    "print(f\"Total time = {time.time() - t1}\")"
   ]
  },
  {
   "cell_type": "markdown",
   "id": "3fae5cd6",
   "metadata": {},
   "source": [
    "## update cluster environments and files"
   ]
  },
  {
   "cell_type": "code",
   "execution_count": null,
   "id": "b4a40540",
   "metadata": {},
   "outputs": [],
   "source": [
    "import os\n",
    "os.environ[\"KUBECONFIG\"] = \"./config/magics_cluster.yaml\"\n",
    "! ray up config/cluster.yaml -y"
   ]
  },
  {
   "cell_type": "markdown",
   "id": "5c93f965",
   "metadata": {},
   "source": [
    "## submit job to cluster"
   ]
  },
  {
   "cell_type": "code",
   "execution_count": null,
   "id": "1c9a92f4",
   "metadata": {},
   "outputs": [],
   "source": [
    "import os\n",
    "os.environ[\"KUBECONFIG\"] = \"./config/magics_cluster.yaml\"\n",
    "! ray submit cluster.yaml scripts.py"
   ]
  },
  {
   "cell_type": "markdown",
   "id": "8de4a9db",
   "metadata": {},
   "source": [
    "## TIPS for control ray cluster\n",
    "sync files:   ray rsync_up cluster.yaml 'bundle.py' '/home/ray/dev_ws/bundle.py'\n",
    "\n",
    "update denpendency:  ray up cluster.yaml\n",
    "\n",
    "connect through ssh:  ray attach cluster.yaml\n",
    "\n",
    "execute command on head: ray exec cluster.yaml \"\""
   ]
  }
 ],
 "metadata": {
  "kernelspec": {
   "display_name": "Python 3 (ipykernel)",
   "language": "python",
   "name": "python3"
  },
  "language_info": {
   "codemirror_mode": {
    "name": "ipython",
    "version": 3
   },
   "file_extension": ".py",
   "mimetype": "text/x-python",
   "name": "python",
   "nbconvert_exporter": "python",
   "pygments_lexer": "ipython3",
   "version": "3.8.5"
  }
 },
 "nbformat": 4,
 "nbformat_minor": 5
}
